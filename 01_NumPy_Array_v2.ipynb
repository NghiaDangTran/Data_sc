{
 "cells": [
  {
   "cell_type": "markdown",
   "metadata": {},
   "source": [
    "# Giới thiệu về NumPy"
   ]
  },
  {
   "cell_type": "markdown",
   "metadata": {},
   "source": [
    "- NumPy là một Python Package, viết tắt của \"Numerical Python\", là một thư viện bao gồm các đối tượng mảng đa chiều và một tập hợp các quy trình để xử lý dữ liệu dạng mảng đó. Các phép toán và logic xử lý trên mảng dữ liệu có thể được thực hiện dễ dàng hơn với NumPy."
   ]
  },
  {
   "cell_type": "markdown",
   "metadata": {},
   "source": [
    "- Numeric, tổ tiên của NumPy, được phát triển bởi Jim Hugunin. Một gói khác Numarray cũng được phát triển, có một số chức năng bổ sung. Năm 2005, Travis Oliphant đã tạo ra gói NumPy bằng cách kết hợp các tính năng của Numarray vào gói Numeric. Có rất nhiều người đóng góp cho dự án mã nguồn mở này."
   ]
  },
  {
   "cell_type": "markdown",
   "metadata": {},
   "source": [
    "- https://numpy.org/doc/stable/user/whatisnumpy.html"
   ]
  },
  {
   "cell_type": "markdown",
   "metadata": {},
   "source": [
    "# Cài đặt NumPy"
   ]
  },
  {
   "cell_type": "code",
   "execution_count": 1,
   "metadata": {
    "collapsed": false
   },
   "outputs": [],
   "source": [
    "# pip install numpy"
   ]
  },
  {
   "cell_type": "markdown",
   "metadata": {},
   "source": [
    "# import numpy vào chương trình"
   ]
  },
  {
   "cell_type": "code",
   "execution_count": 2,
   "metadata": {
    "collapsed": true
   },
   "outputs": [],
   "source": [
    "# import numpy và gán nó bằng biến tên là np\n",
    "import numpy as np"
   ]
  },
  {
   "cell_type": "code",
   "execution_count": 3,
   "metadata": {
    "collapsed": false
   },
   "outputs": [
    {
     "name": "stdout",
     "output_type": "stream",
     "text": [
      "1.12.1\n"
     ]
    }
   ],
   "source": [
    "print (np.__version__)"
   ]
  },
  {
   "cell_type": "markdown",
   "metadata": {},
   "source": [
    "# Làm việc với Python Numpy Array"
   ]
  },
  {
   "cell_type": "markdown",
   "metadata": {},
   "source": [
    "- Mảng trong Numpy là một bảng các phần tử (thường là số), tất cả đều thuộc cùng một kiểu, được lập chỉ mục với số nguyên dương (bắt đầu từ chỉ số 0). Trong Numpy, số kích thước của mảng được gọi là thứ hạng của mảng. \n",
    "- Nhiều số nguyên cho kích thước của mảng dọc theo mỗi chiều được gọi là hình dạng của mảng. \n",
    "- Một lớp mảng trong Numpy được gọi là ndarray. \n",
    "- Các phần tử trong mảng Numpy được truy cập bằng cách sử dụng dấu ngoặc vuông và có thể được khởi tạo bằng cách sử dụng Python Lists lồng nhau."
   ]
  },
  {
   "cell_type": "markdown",
   "metadata": {},
   "source": [
    "# Các thao tác cơ bản với NumPy Array"
   ]
  },
  {
   "cell_type": "code",
   "execution_count": 4,
   "metadata": {
    "collapsed": false
   },
   "outputs": [
    {
     "data": {
      "text/plain": [
       "array([1, 2, 3, 4, 5])"
      ]
     },
     "execution_count": 4,
     "metadata": {},
     "output_type": "execute_result"
    }
   ],
   "source": [
    "list=[1,2,3,4,5]\n",
    "npa=np.array(list)\n",
    "npa"
   ]
  },
  {
   "cell_type": "code",
   "execution_count": 5,
   "metadata": {
    "collapsed": false
   },
   "outputs": [
    {
     "data": {
      "text/plain": [
       "(list, numpy.ndarray)"
      ]
     },
     "execution_count": 5,
     "metadata": {},
     "output_type": "execute_result"
    }
   ],
   "source": [
    "# Kiểm tra kiểu dữ liệu của lis và npa\n",
    "type(list),type(npa)"
   ]
  },
  {
   "cell_type": "code",
   "execution_count": 6,
   "metadata": {
    "collapsed": false
   },
   "outputs": [],
   "source": [
    "# Chuyển lis từ dạng List sang NumPy Array và gán nó vào biến npa\n",
    "\n",
    "\n",
    "# Hiển thị dữ liệu dạng mảng\n"
   ]
  },
  {
   "cell_type": "code",
   "execution_count": 7,
   "metadata": {
    "collapsed": false
   },
   "outputs": [
    {
     "data": {
      "text/plain": [
       "(5,)"
      ]
     },
     "execution_count": 7,
     "metadata": {},
     "output_type": "execute_result"
    }
   ],
   "source": [
    "# Bạn có thể ktra kích thước của mảng NumPy array bằng thuộc tính shape như sau\n",
    "npa.shape\n",
    "# Kết quả trả về là 5 dòng và 1 cột (Mặc định nhỏ nhất là 1 cột)"
   ]
  },
  {
   "cell_type": "code",
   "execution_count": 8,
   "metadata": {
    "collapsed": true
   },
   "outputs": [],
   "source": [
    "# Giờ ta sẽ thử đưa thêm dữ liệu vào lis và chuyển nó qua dạng array của NumPy nhé\n"
   ]
  },
  {
   "cell_type": "code",
   "execution_count": 9,
   "metadata": {
    "collapsed": true
   },
   "outputs": [],
   "source": [
    "list.append(6)\n"
   ]
  },
  {
   "cell_type": "code",
   "execution_count": 10,
   "metadata": {
    "collapsed": false
   },
   "outputs": [
    {
     "data": {
      "text/plain": [
       "array([1, 2, 3, 4, 5, 6])"
      ]
     },
     "execution_count": 10,
     "metadata": {},
     "output_type": "execute_result"
    }
   ],
   "source": [
    "npa=np.array(list)\n",
    "npa"
   ]
  },
  {
   "cell_type": "code",
   "execution_count": 11,
   "metadata": {
    "collapsed": true
   },
   "outputs": [],
   "source": [
    "# Giờ ta thử thêm vào 1 giá trị chuỗi và thực hiện lại các công việc ở trên\n"
   ]
  },
  {
   "cell_type": "code",
   "execution_count": 12,
   "metadata": {
    "collapsed": true
   },
   "outputs": [],
   "source": [
    "list.append('IMIC Technology')"
   ]
  },
  {
   "cell_type": "code",
   "execution_count": 13,
   "metadata": {
    "collapsed": false,
    "scrolled": false
   },
   "outputs": [
    {
     "data": {
      "text/plain": [
       "array(['1', '2', '3', '4', '5', '6', 'IMIC Technology'], \n",
       "      dtype='<U21')"
      ]
     },
     "execution_count": 13,
     "metadata": {},
     "output_type": "execute_result"
    }
   ],
   "source": [
    "npa=np.array(list)\n",
    "npa"
   ]
  },
  {
   "cell_type": "code",
   "execution_count": 14,
   "metadata": {
    "collapsed": true
   },
   "outputs": [],
   "source": [
    "# Giờ chúng ta sẽ học cách làm sao để kết nối 2 list thành 1\n"
   ]
  },
  {
   "cell_type": "code",
   "execution_count": null,
   "metadata": {
    "collapsed": false
   },
   "outputs": [],
   "source": []
  },
  {
   "cell_type": "code",
   "execution_count": 15,
   "metadata": {
    "collapsed": false
   },
   "outputs": [
    {
     "data": {
      "text/plain": [
       "[1, 2, 3, 4, 5, 6, 'IMIC Technology', 1, 4, 9, 16]"
      ]
     },
     "execution_count": 15,
     "metadata": {},
     "output_type": "execute_result"
    }
   ],
   "source": [
    "# Kết nối 2 list làm 1 bằng toán tử cộng (+)\n",
    "list2=[1,4,9,16]\n",
    "list+=list2\n",
    "list"
   ]
  },
  {
   "cell_type": "code",
   "execution_count": 16,
   "metadata": {
    "collapsed": true
   },
   "outputs": [],
   "source": [
    "# Thêm 1 phần tử là 20 là lis kết hợp trên\n",
    "list.append(20)"
   ]
  },
  {
   "cell_type": "code",
   "execution_count": 17,
   "metadata": {
    "collapsed": false
   },
   "outputs": [
    {
     "data": {
      "text/plain": [
       "array(['1', '2', '3', '4', '5', '6', 'IMIC Technology', '1', '4', '9',\n",
       "       '16', '20'], \n",
       "      dtype='<U21')"
      ]
     },
     "execution_count": 17,
     "metadata": {},
     "output_type": "execute_result"
    }
   ],
   "source": [
    "# Tiến hành chuyển sang dạng NumPy array như sau:\n",
    "npa=np.array(list)\n",
    "npa"
   ]
  },
  {
   "cell_type": "markdown",
   "metadata": {},
   "source": [
    "# Làm việc với mảng nhiều chiều (List of list)"
   ]
  },
  {
   "cell_type": "code",
   "execution_count": 18,
   "metadata": {
    "collapsed": true
   },
   "outputs": [],
   "source": [
    "# lis4 là 1 list mà mỗi phần tử lại là 1 list khác\n",
    "# Chúng ta còn gọi loại list này là List of List\n",
    "list4=[[1,2],[3,4],[5,6]]"
   ]
  },
  {
   "cell_type": "code",
   "execution_count": 19,
   "metadata": {
    "collapsed": false
   },
   "outputs": [],
   "source": [
    "# Chuyển lis4 sang NumPy Array và gán vào biến npa2d\n",
    "npa2d=np.array(list4)"
   ]
  },
  {
   "cell_type": "code",
   "execution_count": 20,
   "metadata": {
    "collapsed": false
   },
   "outputs": [
    {
     "data": {
      "text/plain": [
       "array([[1, 2],\n",
       "       [3, 4],\n",
       "       [5, 6]])"
      ]
     },
     "execution_count": 20,
     "metadata": {},
     "output_type": "execute_result"
    }
   ],
   "source": [
    "# npa2d là 1 mảng 2 chiều (2D: 2 dimensions - 2 chiều)\n",
    "npa2d"
   ]
  },
  {
   "cell_type": "code",
   "execution_count": 21,
   "metadata": {
    "collapsed": false
   },
   "outputs": [
    {
     "data": {
      "text/plain": [
       "(3, 2)"
      ]
     },
     "execution_count": 21,
     "metadata": {},
     "output_type": "execute_result"
    }
   ],
   "source": [
    "# Kiểm tra kích thước của npa2d\n",
    "npa2d.shape\n",
    "# Kết quả trả về là 3 dòng và 2 cột => mảng 2 chiều"
   ]
  },
  {
   "cell_type": "markdown",
   "metadata": {},
   "source": [
    "# Chuyển đổi kiểu dữ liệu khi tạo Array"
   ]
  },
  {
   "cell_type": "markdown",
   "metadata": {},
   "source": [
    "- Ta sử dụng thêm từ khoá là dtype (dtype: data type <kiểu dữ liệu>)\n",
    "- Và ở đây ta sẽ chuyển sang kiểu dữ liệu là float (Số thực)"
   ]
  },
  {
   "cell_type": "code",
   "execution_count": 22,
   "metadata": {
    "collapsed": false
   },
   "outputs": [
    {
     "data": {
      "text/plain": [
       "array([[ 1.,  2.],\n",
       "       [ 3.,  4.],\n",
       "       [ 5.,  6.]])"
      ]
     },
     "execution_count": 22,
     "metadata": {},
     "output_type": "execute_result"
    }
   ],
   "source": [
    "npa2d = np.array(list4,dtype='float')\n",
    "npa2d"
   ]
  },
  {
   "cell_type": "markdown",
   "metadata": {},
   "source": [
    "- Giờ nếu chúng ta muốn chuyển dữ liệu trong NumPy Array từ float về integer\n",
    "- Bạn sẽ sử dụng hàm astype(<kiểu dữ liệu>) để chuyển đổi kiểu dữ liệu của các phần tử trong NumPy array"
   ]
  },
  {
   "cell_type": "code",
   "execution_count": 23,
   "metadata": {
    "collapsed": false
   },
   "outputs": [
    {
     "data": {
      "text/plain": [
       "array([['1.0', '2.0'],\n",
       "       ['3.0', '4.0'],\n",
       "       ['5.0', '6.0']], \n",
       "      dtype='<U32')"
      ]
     },
     "execution_count": 23,
     "metadata": {},
     "output_type": "execute_result"
    }
   ],
   "source": [
    "npa2d.astype('str')"
   ]
  },
  {
   "cell_type": "markdown",
   "metadata": {},
   "source": [
    "- Và cũng tương tự như trên, bạn cũng có thể chuyển đổi kiểu dữ liệu từ số nguyên (integer: int)\n",
    "- sang chuỗi (string: str) như sau:"
   ]
  },
  {
   "cell_type": "code",
   "execution_count": 24,
   "metadata": {
    "collapsed": false
   },
   "outputs": [
    {
     "data": {
      "text/plain": [
       "array([['1', '2'],\n",
       "       ['3', '4'],\n",
       "       ['5', '6']], \n",
       "      dtype='<U21')"
      ]
     },
     "execution_count": 24,
     "metadata": {},
     "output_type": "execute_result"
    }
   ],
   "source": [
    "npa2d=npa2d.astype('int')\n",
    "npa2d\n",
    "npa2d.astype('str')\n"
   ]
  },
  {
   "cell_type": "markdown",
   "metadata": {},
   "source": [
    "- Giờ bạn muốn lấy ra các giá trị trong NumPy Array thì sẽ làm thế nào?\n",
    "- Lấy ra phần tử thứ 1"
   ]
  },
  {
   "cell_type": "code",
   "execution_count": 25,
   "metadata": {
    "collapsed": false
   },
   "outputs": [
    {
     "data": {
      "text/plain": [
       "array([1, 2])"
      ]
     },
     "execution_count": 25,
     "metadata": {},
     "output_type": "execute_result"
    }
   ],
   "source": [
    "npa2d[0]"
   ]
  },
  {
   "cell_type": "markdown",
   "metadata": {},
   "source": [
    "- Tiếp tục thực hiện việc lấy ra giá trị thứ nhất của phần tử thứ nhất\n",
    "- Vì phần tử thứ nhất là 1 list có 2 phần tử nên ta làm như sau:"
   ]
  },
  {
   "cell_type": "code",
   "execution_count": 26,
   "metadata": {
    "collapsed": false
   },
   "outputs": [
    {
     "data": {
      "text/plain": [
       "2"
      ]
     },
     "execution_count": 26,
     "metadata": {},
     "output_type": "execute_result"
    }
   ],
   "source": [
    "npa2d[0][1]"
   ]
  },
  {
   "cell_type": "markdown",
   "metadata": {},
   "source": [
    "- Giờ ta sẽ thử chuyển npa2d thành dữ liệu kiểu chuỗi:"
   ]
  },
  {
   "cell_type": "code",
   "execution_count": 27,
   "metadata": {
    "collapsed": false
   },
   "outputs": [
    {
     "data": {
      "text/plain": [
       "'61'"
      ]
     },
     "execution_count": 27,
     "metadata": {},
     "output_type": "execute_result"
    }
   ],
   "source": [
    "npa2d = npa2d.astype('str')\n",
    "npa2d[2][1]+'1'"
   ]
  },
  {
   "cell_type": "markdown",
   "metadata": {},
   "source": [
    "- Hoặc bạn cũng có thể làm như sau:"
   ]
  },
  {
   "cell_type": "code",
   "execution_count": 28,
   "metadata": {
    "collapsed": false
   },
   "outputs": [
    {
     "data": {
      "text/plain": [
       "'11'"
      ]
     },
     "execution_count": 28,
     "metadata": {},
     "output_type": "execute_result"
    }
   ],
   "source": [
    "npa2d[0][0]+'1'"
   ]
  },
  {
   "cell_type": "markdown",
   "metadata": {},
   "source": [
    "# Hiểu rõ về np.nan và np.inf trong Python\n",
    "- nan: Not a Number (Không phải số - Không xác định nên sẽ không bằng nhau)\n",
    "- inf: Infinity (Dương vô cùng và Âm vô cùng: Nói chung là số vô cùng lớn)"
   ]
  },
  {
   "cell_type": "markdown",
   "metadata": {},
   "source": [
    "- Hãy thử sử dụng hàm type để kiểm tra 1 giá trị \"nan\" và \"inf\""
   ]
  },
  {
   "cell_type": "code",
   "execution_count": 29,
   "metadata": {
    "collapsed": false
   },
   "outputs": [
    {
     "name": "stdout",
     "output_type": "stream",
     "text": [
      "nan: <class 'float'>\n",
      "inf: <class 'float'>\n"
     ]
    }
   ],
   "source": [
    "print(f\"nan: {type(np.nan)}\")\n",
    "print(f\"inf: {type(np.inf)}\")"
   ]
  },
  {
   "cell_type": "markdown",
   "metadata": {},
   "source": [
    "- Hiển thị ra giá trị của \"nan\" và \"inf\":"
   ]
  },
  {
   "cell_type": "code",
   "execution_count": 30,
   "metadata": {
    "collapsed": false,
    "scrolled": true
   },
   "outputs": [
    {
     "name": "stdout",
     "output_type": "stream",
     "text": [
      "Giá trị nan: nan\n",
      "Giá trị inf: inf\n"
     ]
    }
   ],
   "source": [
    "print(f\"Giá trị nan: {np.nan}\")\n",
    "print(f\"Giá trị inf: {np.inf}\")\n"
   ]
  },
  {
   "cell_type": "markdown",
   "metadata": {},
   "source": [
    "- Thử thực hiện một số so sánh giá trị:\n",
    "  - nan vs nan?\n",
    "  - inf vs inf?\n",
    "  - None vs None?"
   ]
  },
  {
   "cell_type": "code",
   "execution_count": 31,
   "metadata": {
    "collapsed": false
   },
   "outputs": [
    {
     "name": "stdout",
     "output_type": "stream",
     "text": [
      "nan vs nan = False\n",
      "inf vs inf = True\n",
      "None vs None = True\n"
     ]
    }
   ],
   "source": [
    "print(f\"nan vs nan = {np.nan == np.nan}\")\n",
    "print(f\"inf vs inf = {np.inf == np.inf}\")\n",
    "print(f\"None vs None = {None == None}\")"
   ]
  },
  {
   "cell_type": "markdown",
   "metadata": {},
   "source": [
    "- inf: infinity có nghĩa là 1 số vô cùng lớn\n",
    "- ví dụ ở đây ta có 1 số bằng 1e1000 (10^1000)\n",
    "- Bản thân con số này đã rất lớn rồi\n",
    "- Giờ ta sẽ luỹ thừa nó lên và chắc chắn ta sẽ có 1 kết quả là rất lớn\n",
    "- Và khi chúng ta thực hiện phép toán đó Python sẽ trả về kết quả là inf (infinity) vì nó quá lớn\n",
    "- inf (dương vô cùng)"
   ]
  },
  {
   "cell_type": "code",
   "execution_count": 32,
   "metadata": {
    "collapsed": false
   },
   "outputs": [
    {
     "data": {
      "text/plain": [
       "inf"
      ]
     },
     "execution_count": 32,
     "metadata": {},
     "output_type": "execute_result"
    }
   ],
   "source": [
    "a = 1e1000\n",
    "a = a**a\n",
    "a"
   ]
  },
  {
   "cell_type": "markdown",
   "metadata": {
    "scrolled": true
   },
   "source": [
    "- tương tự ta sẽ biến nó thành 1 số âm vô vùng"
   ]
  },
  {
   "cell_type": "code",
   "execution_count": 33,
   "metadata": {
    "collapsed": false
   },
   "outputs": [
    {
     "data": {
      "text/plain": [
       "-inf"
      ]
     },
     "execution_count": 33,
     "metadata": {},
     "output_type": "execute_result"
    }
   ],
   "source": [
    "a = 1e1000\n",
    "a = a**a\n",
    "-1*a"
   ]
  },
  {
   "cell_type": "markdown",
   "metadata": {
    "scrolled": true
   },
   "source": [
    "- Giờ ta hãy cùng thực hiện 1 phép tính:\n",
    "  - Hãy tạo ra 2 biến a & b thể hiện cho nó là inf.\n",
    "  - Hãy thử lấy a-b để xem kết quả của biểu thức dương vô cùng - dương vô cùng sẽ là gì? \n",
    "  - Bạn nghĩ là nó sẽ = 0?\n",
    "  - Đương nhiên là không, kết quả chúng ta nhận được lúc này sẽ là nan (nan là 1 số thực - float)\n",
    "  - nhưng chắc chắn nan không phải là 0 rồi.\n",
    "  - Nói chung bạn sẽ nhận được kết quả là nan nếu bạn nhận được 1 phép tính không thể diễn tả dưới dạng số."
   ]
  },
  {
   "cell_type": "code",
   "execution_count": 34,
   "metadata": {
    "collapsed": false
   },
   "outputs": [
    {
     "data": {
      "text/plain": [
       "nan"
      ]
     },
     "execution_count": 34,
     "metadata": {},
     "output_type": "execute_result"
    }
   ],
   "source": [
    "a = 1e1000\n",
    "a = a**a\n",
    "\n",
    "b = 1e1000\n",
    "b = b**b\n",
    "\n",
    "kq = a-b\n",
    "kq"
   ]
  },
  {
   "cell_type": "markdown",
   "metadata": {},
   "source": [
    "- Hãy thực hiện chuyển đổi list4 thành numpy array với kiểu float\n",
    "- Hãy gán giá trị dòng 0 cột 0 = np.nan\n",
    "- Hãy gán giá trị dòng 1 cột 1 = np.inf\n",
    "- Hãy hiển thị kết quả của npa2d sau khi thay thế giá trị là 'nan' và 'inf'"
   ]
  },
  {
   "cell_type": "code",
   "execution_count": 35,
   "metadata": {
    "collapsed": false
   },
   "outputs": [
    {
     "data": {
      "text/plain": [
       "array([[ inf,   2.],\n",
       "       [  3.,  nan],\n",
       "       [  5.,   6.]])"
      ]
     },
     "execution_count": 35,
     "metadata": {},
     "output_type": "execute_result"
    }
   ],
   "source": [
    "npa2d = np.array(list4,'float')\n",
    "npa2d[0][0] = np.inf\n",
    "npa2d[1][1] = np.nan\n",
    "npa2d"
   ]
  },
  {
   "cell_type": "code",
   "execution_count": null,
   "metadata": {
    "collapsed": false,
    "scrolled": true
   },
   "outputs": [],
   "source": []
  },
  {
   "cell_type": "markdown",
   "metadata": {},
   "source": [
    "- Bạn cũng có thể kiểm tra giá trị trong NumPy Array có phải là nan hay inf:\n",
    "    - Để kiểm tra là nan hay inf thì data type phải là float.\n",
    "    - Nếu không thì sẽ bị lỗi.\n",
    "    - Bạn nên nhớ inf, nan có kiểu dữ liệu là float chứ không phải int hay str."
   ]
  },
  {
   "cell_type": "code",
   "execution_count": 36,
   "metadata": {
    "collapsed": false
   },
   "outputs": [
    {
     "data": {
      "text/plain": [
       "array([[False, False],\n",
       "       [False,  True],\n",
       "       [False, False]], dtype=bool)"
      ]
     },
     "execution_count": 36,
     "metadata": {},
     "output_type": "execute_result"
    }
   ],
   "source": [
    "np.isnan(npa2d)\n"
   ]
  },
  {
   "cell_type": "code",
   "execution_count": 37,
   "metadata": {
    "collapsed": false
   },
   "outputs": [
    {
     "data": {
      "text/plain": [
       "array([[ True, False],\n",
       "       [False, False],\n",
       "       [False, False]], dtype=bool)"
      ]
     },
     "execution_count": 37,
     "metadata": {},
     "output_type": "execute_result"
    }
   ],
   "source": [
    "np.isinf(npa2d)"
   ]
  },
  {
   "cell_type": "markdown",
   "metadata": {},
   "source": [
    "- Giờ chúng ta sẽ gộp 2 mảng vào thành 1 như sau:"
   ]
  },
  {
   "cell_type": "code",
   "execution_count": 38,
   "metadata": {
    "collapsed": false
   },
   "outputs": [
    {
     "data": {
      "text/plain": [
       "True"
      ]
     },
     "execution_count": 38,
     "metadata": {},
     "output_type": "execute_result"
    }
   ],
   "source": [
    "a = np.isnan(npa2d)|np.isinf(npa2d)\n",
    "# | this is the or operator in python\n",
    "a\n",
    "True|False"
   ]
  },
  {
   "cell_type": "markdown",
   "metadata": {},
   "source": [
    "- Hãy lấy ra các vị trí là True của nan và inf trong npa2d"
   ]
  },
  {
   "cell_type": "code",
   "execution_count": 39,
   "metadata": {
    "collapsed": false
   },
   "outputs": [
    {
     "data": {
      "text/plain": [
       "array([ inf,  nan])"
      ]
     },
     "execution_count": 39,
     "metadata": {},
     "output_type": "execute_result"
    }
   ],
   "source": [
    "npa2d[a]\n",
    "# go into the array and get all the true\n"
   ]
  },
  {
   "cell_type": "markdown",
   "metadata": {},
   "source": [
    "- Hãy thay thế các giá trị inf và nan thành = 0"
   ]
  },
  {
   "cell_type": "code",
   "execution_count": 40,
   "metadata": {
    "collapsed": false
   },
   "outputs": [
    {
     "data": {
      "text/plain": [
       "array([[ 0.,  2.],\n",
       "       [ 3.,  0.],\n",
       "       [ 5.,  6.]])"
      ]
     },
     "execution_count": 40,
     "metadata": {},
     "output_type": "execute_result"
    }
   ],
   "source": [
    "npa2d[a] = 0\n",
    "#make all the True value into 0\n",
    "npa2d"
   ]
  },
  {
   "cell_type": "markdown",
   "metadata": {},
   "source": [
    "# Chỉ mục và phương pháp cắt lát trong Numpy Array"
   ]
  },
  {
   "cell_type": "markdown",
   "metadata": {},
   "source": [
    "- Lập chỉ mục được sử dụng để lấy các phần tử riêng lẻ từ một mảng, nhưng nó cũng có thể được sử dụng để lấy toàn bộ hàng, cột hoặc mặt phẳng từ mảng nhiều chiều."
   ]
  },
  {
   "cell_type": "markdown",
   "metadata": {},
   "source": [
    "## Chỉ mục trong mảng 1 chiều"
   ]
  },
  {
   "cell_type": "markdown",
   "metadata": {},
   "source": [
    "- Chúng ta có thể tạo mảng numpy 1 chiều từ danh sách như sau:\n",
    "- [1, 2, 3, 4]"
   ]
  },
  {
   "cell_type": "code",
   "execution_count": 41,
   "metadata": {
    "collapsed": false
   },
   "outputs": [
    {
     "name": "stdout",
     "output_type": "stream",
     "text": [
      "a[0] = 1\n",
      "a[2] = 3\n"
     ]
    }
   ],
   "source": [
    "list = [1, 2, 3, 4]\n",
    "a = np.array(list)\n",
    "print(f\"a[0] = {a[0]}\")\n",
    "print(f\"a[2] = {a[2]}\")"
   ]
  },
  {
   "cell_type": "markdown",
   "metadata": {},
   "source": [
    "## Chỉ mục trong mảng 2 chiều"
   ]
  },
  {
   "cell_type": "markdown",
   "metadata": {},
   "source": [
    "- Chúng ta có thể tạo mảng numpy 2 chiều từ danh sách như sau:\n",
    "- [[1, 2, 3],\n",
    "   [4, 5, 6],\n",
    "   [7, 8, 9]]\n",
    "![image.png](attachment:image.png)"
   ]
  },
  {
   "cell_type": "markdown",
   "metadata": {},
   "source": [
    "- Lấy ra giá trị ở Hàng 2 & Cột 1 (sẽ lấy được giá trị là 8)"
   ]
  },
  {
   "cell_type": "code",
   "execution_count": 42,
   "metadata": {
    "collapsed": false
   },
   "outputs": [
    {
     "name": "stdout",
     "output_type": "stream",
     "text": [
      "8\n"
     ]
    }
   ],
   "source": [
    "lis = [[1, 2, 3], [4, 5, 6], [7, 8, 9]]\n",
    "npa = np.array(lis)\n",
    "print(npa[2,1]) #8"
   ]
  },
  {
   "cell_type": "markdown",
   "metadata": {},
   "source": [
    "## Chọn 1 Hàng hoặc 1 Cột nào đó"
   ]
  },
  {
   "cell_type": "markdown",
   "metadata": {},
   "source": [
    "![image.png](attachment:image.png)"
   ]
  },
  {
   "cell_type": "code",
   "execution_count": 43,
   "metadata": {
    "collapsed": false,
    "scrolled": true
   },
   "outputs": [
    {
     "name": "stdout",
     "output_type": "stream",
     "text": [
      "[[1 2 3]\n",
      " [4 5 6]\n",
      " [7 8 9]]\n",
      "npa[2]: [7 8 9]\n",
      "npa[:,1]: [2 5 8]\n",
      "npa[:,1:3]: [[2 3]\n",
      " [5 6]\n",
      " [8 9]]\n",
      "npa[0:3,1]: [2 5 8]\n"
     ]
    }
   ],
   "source": [
    "print(npa)\n",
    "print(f\"npa[2]: {npa[2]}\")\n",
    "print(f\"npa[:,1]: {npa[:,1]}\")\n",
    "print(f\"npa[:,1:3]: {npa[:,1:3]}\")\n",
    "print(f\"npa[0:3,1]: {npa[0:3,1]}\")"
   ]
  },
  {
   "cell_type": "markdown",
   "metadata": {},
   "source": [
    "## Chỉ mục trong mảng 3 chiều"
   ]
  },
  {
   "cell_type": "markdown",
   "metadata": {},
   "source": [
    "- Hãy khai báo 1 mảng 3 chiều với các giá trị sau:\n",
    "- [[[10, 11, 12], [13, 14, 15], [16, 17, 18]],[[20, 21, 22], [23, 24, 25], [26, 27, 28]],[[30, 31, 32], [33, 34, 35], [36, 37, 38]]]\n",
    "![image-3.png](attachment:image-3.png)\n",
    "- Mảng 3D giống như một chồng ma trận:\n",
    "    - Chỉ mục đầu tiên, i, chọn ma trận\n",
    "    - Chỉ mục thứ hai, j, chọn hàng\n",
    "    - Chỉ mục thứ ba, k, chọn cột"
   ]
  },
  {
   "cell_type": "markdown",
   "metadata": {},
   "source": [
    "- Hãy chọn chỉ số ma trận 2 (ma trận cuối cùng), hàng 0, cột 1, cho giá trị 31\n",
    "- Cú pháp khi sử dụng: npa[chỉ số ma trận, chỉ số hàng, chỉ số cột]"
   ]
  },
  {
   "cell_type": "code",
   "execution_count": 44,
   "metadata": {
    "collapsed": false
   },
   "outputs": [
    {
     "name": "stdout",
     "output_type": "stream",
     "text": [
      "31\n"
     ]
    }
   ],
   "source": [
    "lis = [[[10, 11, 12], [13, 14, 15], [16, 17, 18]],\n",
    "       [[20, 21, 22], [23, 24, 25], [26, 27, 28]],\n",
    "       [[30, 31, 32], [33, 34, 35], [36, 37, 38]]]\n",
    "npa = np.array(lis)\n",
    "print(npa[2,0,1])"
   ]
  },
  {
   "cell_type": "markdown",
   "metadata": {},
   "source": [
    "## Chọn hàng , cột từ mảng 3 chiều"
   ]
  },
  {
   "cell_type": "markdown",
   "metadata": {},
   "source": [
    "- Trường hợp 1 - xác định hai chỉ số đầu tiên. \n",
    "- Trong trường hợp này, bạn đang chọn giá trị i (ma trận) và giá trị j (hàng). \n",
    "- Thao tác này sẽ chọn một hàng cụ thể. \n",
    "- Trong ví dụ này, chúng tôi đang chọn hàng 2 từ ma trận 1:\n",
    "![image.png](attachment:image.png)"
   ]
  },
  {
   "cell_type": "code",
   "execution_count": 45,
   "metadata": {
    "collapsed": false
   },
   "outputs": [
    {
     "data": {
      "text/plain": [
       "array([26, 27, 28])"
      ]
     },
     "execution_count": 45,
     "metadata": {},
     "output_type": "execute_result"
    }
   ],
   "source": [
    "npa[1,2]\n"
   ]
  },
  {
   "cell_type": "markdown",
   "metadata": {},
   "source": [
    "- Trường hợp 2 - xác định giá trị i (ma trận) và giá trị k (cột), sử dụng một lát đầy đủ (:) cho giá trị j (hàng). \n",
    "- Thao tác này sẽ chọn một cột cụ thể. \n",
    "- Trong ví dụ này, chúng tôi đang chọn cột 1 từ ma trận 0:\n",
    "![image.png](attachment:image.png)"
   ]
  },
  {
   "cell_type": "code",
   "execution_count": 46,
   "metadata": {
    "collapsed": false
   },
   "outputs": [
    {
     "data": {
      "text/plain": [
       "array([11, 14, 17])"
      ]
     },
     "execution_count": 46,
     "metadata": {},
     "output_type": "execute_result"
    }
   ],
   "source": [
    "npa[0,:,1]\n"
   ]
  },
  {
   "cell_type": "markdown",
   "metadata": {},
   "source": [
    "- Trường hợp 3 - xác định giá trị j (hàng) và giá trị k (cột), sử dụng một lát đầy đủ (:) cho giá trị i (ma trận). \n",
    "- Thao tác này sẽ tạo một hàng bằng cách lấy cùng một phần tử từ mỗi ma trận. \n",
    "- Trong trường hợp này, chúng tôi đang lấy hàng 1, cột 2 từ mỗi ma trận:\n",
    "![image.png](attachment:image.png)"
   ]
  },
  {
   "cell_type": "code",
   "execution_count": 47,
   "metadata": {
    "collapsed": false
   },
   "outputs": [
    {
     "data": {
      "text/plain": [
       "array([15, 25, 35])"
      ]
     },
     "execution_count": 47,
     "metadata": {},
     "output_type": "execute_result"
    }
   ],
   "source": [
    "npa[:,1,2]\n"
   ]
  },
  {
   "cell_type": "markdown",
   "metadata": {},
   "source": [
    "## Chọn một ma trận trong một mảng 3 chiều"
   ]
  },
  {
   "cell_type": "markdown",
   "metadata": {},
   "source": [
    "- Trường hợp 01: Nếu chúng ta chỉ xác định chỉ số i, numpy sẽ trả về ma trận tương ứng. \n",
    "- Trong ví dụ này, chúng ta sẽ yêu cầu ma trận 2:\n",
    "![image.png](attachment:image.png)"
   ]
  },
  {
   "cell_type": "code",
   "execution_count": 48,
   "metadata": {
    "collapsed": false
   },
   "outputs": [
    {
     "data": {
      "text/plain": [
       "array([[30, 31, 32],\n",
       "       [33, 34, 35],\n",
       "       [36, 37, 38]])"
      ]
     },
     "execution_count": 48,
     "metadata": {},
     "output_type": "execute_result"
    }
   ],
   "source": [
    "npa[2]\n"
   ]
  },
  {
   "cell_type": "markdown",
   "metadata": {},
   "source": [
    "- Trường hợp 2: nếu chúng ta chỉ xác định giá trị j (sử dụng một lát cắt đầy đủ cho các giá trị i), \n",
    "- chúng ta sẽ thu được một ma trận được tạo từ hàng đã chọn được lấy từ mỗi mặt phẳng. \n",
    "- Trong ví dụ này, chúng ta sẽ lấy hàng 1:\n",
    "![image.png](attachment:image.png)"
   ]
  },
  {
   "cell_type": "code",
   "execution_count": 49,
   "metadata": {
    "collapsed": false
   },
   "outputs": [
    {
     "data": {
      "text/plain": [
       "array([[13, 14, 15],\n",
       "       [23, 24, 25],\n",
       "       [33, 34, 35]])"
      ]
     },
     "execution_count": 49,
     "metadata": {},
     "output_type": "execute_result"
    }
   ],
   "source": [
    "npa[:,1]\n"
   ]
  },
  {
   "cell_type": "markdown",
   "metadata": {},
   "source": [
    "- Trường hợp 3 nếu chúng ta chỉ xác định giá trị k (sử dụng các lát cắt đầy đủ cho các giá trị i và j), \n",
    "- chúng ta sẽ thu được một ma trận được tạo từ cột đã chọn lấy từ mỗi mặt phẳng. \n",
    "- Trong ví dụ này, chúng ta sẽ lấy cột 0:\n",
    "![image.png](attachment:image.png)"
   ]
  },
  {
   "cell_type": "code",
   "execution_count": 50,
   "metadata": {
    "collapsed": false
   },
   "outputs": [
    {
     "data": {
      "text/plain": [
       "array([[10, 13, 16],\n",
       "       [20, 23, 26],\n",
       "       [30, 33, 36]])"
      ]
     },
     "execution_count": 50,
     "metadata": {},
     "output_type": "execute_result"
    }
   ],
   "source": [
    "npa[:,:,0]\n"
   ]
  },
  {
   "cell_type": "markdown",
   "metadata": {},
   "source": [
    "## Cắt lát (Slicing) trong mảng"
   ]
  },
  {
   "cell_type": "markdown",
   "metadata": {},
   "source": [
    "- Ký hiệu lát cắt chỉ định giá trị bắt đầu và giá trị kết thúc [start: end] và sao chép danh sách từ đầu đến nhưng không bao gồm kết thúc.\n",
    "- [[10, 11, 12, 13, 14],[15, 16, 17, 18, 19],[20, 21, 22, 23, 24],[25, 26, 27, 28, 29]]\n",
    "![image.png](attachment:image.png)"
   ]
  },
  {
   "cell_type": "code",
   "execution_count": 57,
   "metadata": {
    "collapsed": false
   },
   "outputs": [
    {
     "data": {
      "text/plain": [
       "array([[[26, 27, 28]],\n",
       "\n",
       "       [[36, 37, 38]]])"
      ]
     },
     "execution_count": 57,
     "metadata": {},
     "output_type": "execute_result"
    }
   ],
   "source": [
    "lis = [[[10, 11, 12], [13, 14, 15], [16, 17, 18]],\n",
    "       [[20, 21, 22], [23, 24, 25], [26, 27, 28]],\n",
    "       [[30, 31, 32], [33, 34, 35], [36, 37, 38]]]\n",
    "npa = np.array(list)\n",
    "\n",
    "npa[1:,2:4]"
   ]
  },
  {
   "cell_type": "markdown",
   "metadata": {},
   "source": [
    "## Cắt một mảng 3 chiều"
   ]
  },
  {
   "cell_type": "markdown",
   "metadata": {},
   "source": [
    "- Hãy khởi tạo mảng 3 chiều: [[[10, 11, 12], [13, 14, 15], [16, 17, 18]],[[20, 21, 22], [23, 24, 25], [26, 27, 28]],[[30, 31, 32], [33, 34, 35], [36, 37, 38]]]\n",
    "![image.png](attachment:image.png)"
   ]
  },
  {
   "cell_type": "code",
   "execution_count": 58,
   "metadata": {
    "collapsed": false
   },
   "outputs": [
    {
     "data": {
      "text/plain": [
       "array([[[13, 14],\n",
       "        [16, 17]],\n",
       "\n",
       "       [[23, 24],\n",
       "        [26, 27]]])"
      ]
     },
     "execution_count": 58,
     "metadata": {},
     "output_type": "execute_result"
    }
   ],
   "source": [
    "lis = [[[10, 11, 12], [13, 14, 15], [16, 17, 18]],\n",
    "       [[20, 21, 22], [23, 24, 25], [26, 27, 28]],\n",
    "       [[30, 31, 32], [33, 34, 35], [36, 37, 38]]]\n",
    "npa= np.array(list)\n",
    "npa[:2,1:,:2]"
   ]
  },
  {
   "cell_type": "markdown",
   "metadata": {},
   "source": [
    "-- Chúc mừng các bạn đã hoàn thành nội dung phần 01 rồi!"
   ]
  }
 ],
 "metadata": {
  "hide_input": false,
  "kernelspec": {
   "display_name": "Python 3",
   "language": "python",
   "name": "python3"
  },
  "language_info": {
   "codemirror_mode": {
    "name": "ipython",
    "version": 3
   },
   "file_extension": ".py",
   "mimetype": "text/x-python",
   "name": "python",
   "nbconvert_exporter": "python",
   "pygments_lexer": "ipython3",
   "version": "3.6.2"
  },
  "latex_envs": {
   "LaTeX_envs_menu_present": true,
   "autoclose": false,
   "autocomplete": true,
   "bibliofile": "biblio.bib",
   "cite_by": "apalike",
   "current_citInitial": 1,
   "eqLabelWithNumbers": true,
   "eqNumInitial": 1,
   "hotkeys": {
    "equation": "Ctrl-E",
    "itemize": "Ctrl-I"
   },
   "labels_anchors": false,
   "latex_user_defs": false,
   "report_style_numbering": false,
   "user_envs_cfg": false
  },
  "nbTranslate": {
   "displayLangs": [
    "*"
   ],
   "hotkey": "alt-t",
   "langInMainMenu": true,
   "sourceLang": "en",
   "targetLang": "fr",
   "useGoogleTranslate": true
  },
  "toc": {
   "base_numbering": 1,
   "nav_menu": {},
   "number_sections": true,
   "sideBar": true,
   "skip_h1_title": false,
   "title_cell": "Table of Contents",
   "title_sidebar": "Contents",
   "toc_cell": false,
   "toc_position": {
    "height": "calc(100% - 180px)",
    "left": "10px",
    "top": "150px",
    "width": "170px"
   },
   "toc_section_display": true,
   "toc_window_display": true
  },
  "varInspector": {
   "cols": {
    "lenName": 16,
    "lenType": 16,
    "lenVar": 40
   },
   "kernels_config": {
    "python": {
     "delete_cmd_postfix": "",
     "delete_cmd_prefix": "del ",
     "library": "var_list.py",
     "varRefreshCmd": "print(var_dic_list())"
    },
    "r": {
     "delete_cmd_postfix": ") ",
     "delete_cmd_prefix": "rm(",
     "library": "var_list.r",
     "varRefreshCmd": "cat(var_dic_list()) "
    }
   },
   "types_to_exclude": [
    "module",
    "function",
    "builtin_function_or_method",
    "instance",
    "_Feature"
   ],
   "window_display": false
  }
 },
 "nbformat": 4,
 "nbformat_minor": 4
}
